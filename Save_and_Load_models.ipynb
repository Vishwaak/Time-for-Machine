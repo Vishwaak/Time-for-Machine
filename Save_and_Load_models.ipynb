{
  "nbformat": 4,
  "nbformat_minor": 0,
  "metadata": {
    "colab": {
      "name": "Save and Load models.ipynb",
      "version": "0.3.2",
      "provenance": [],
      "include_colab_link": true
    },
    "kernelspec": {
      "name": "python3",
      "display_name": "Python 3"
    }
  },
  "cells": [
    {
      "cell_type": "markdown",
      "metadata": {
        "id": "view-in-github",
        "colab_type": "text"
      },
      "source": [
        "<a href=\"https://colab.research.google.com/github/Vishwaak/Time-for-Machine/blob/master/Save_and_Load_models.ipynb\" target=\"_parent\"><img src=\"https://colab.research.google.com/assets/colab-badge.svg\" alt=\"Open In Colab\"/></a>"
      ]
    },
    {
      "cell_type": "code",
      "metadata": {
        "id": "BLmoqpJ7NKap",
        "colab_type": "code",
        "outputId": "6ff6899b-e962-445c-85ce-c9d08d438956",
        "colab": {
          "base_uri": "https://localhost:8080/",
          "height": 280
        }
      },
      "source": [
        "import torch\n",
        "from torchvision import datasets, transforms\n",
        "import helper\n",
        "\n",
        "# Define a transform to normalize the data\n",
        "transform = transforms.Compose([transforms.ToTensor(),\n",
        "                                transforms.Normalize((0.5,), (0.5,))])\n",
        "# Download and load the training data\n",
        "trainset = datasets.FashionMNIST('~/.pytorch/F_MNIST_data/', download=True, train=True, transform=transform)\n",
        "trainloader = torch.utils.data.DataLoader(trainset, batch_size=64, shuffle=True)\n",
        "\n",
        "# Download and load the test data\n",
        "testset = datasets.FashionMNIST('~/.pytorch/F_MNIST_data/', download=True, train=False, transform=transform)\n",
        "testloader = torch.utils.data.DataLoader(testset, batch_size=64, shuffle=True)"
      ],
      "execution_count": 0,
      "outputs": [
        {
          "output_type": "stream",
          "text": [
            "  0%|          | 114688/26421880 [00:00<00:22, 1146225.22it/s]"
          ],
          "name": "stderr"
        },
        {
          "output_type": "stream",
          "text": [
            "Downloading http://fashion-mnist.s3-website.eu-central-1.amazonaws.com/train-images-idx3-ubyte.gz to /root/.pytorch/F_MNIST_data/FashionMNIST/raw/train-images-idx3-ubyte.gz\n"
          ],
          "name": "stdout"
        },
        {
          "output_type": "stream",
          "text": [
            "26427392it [00:00, 81392483.16it/s]                             \n"
          ],
          "name": "stderr"
        },
        {
          "output_type": "stream",
          "text": [
            "Extracting /root/.pytorch/F_MNIST_data/FashionMNIST/raw/train-images-idx3-ubyte.gz\n"
          ],
          "name": "stdout"
        },
        {
          "output_type": "stream",
          "text": [
            "32768it [00:00, 552087.83it/s]\n",
            " 10%|▉         | 434176/4422102 [00:00<00:00, 4340977.56it/s]"
          ],
          "name": "stderr"
        },
        {
          "output_type": "stream",
          "text": [
            "Downloading http://fashion-mnist.s3-website.eu-central-1.amazonaws.com/train-labels-idx1-ubyte.gz to /root/.pytorch/F_MNIST_data/FashionMNIST/raw/train-labels-idx1-ubyte.gz\n",
            "Extracting /root/.pytorch/F_MNIST_data/FashionMNIST/raw/train-labels-idx1-ubyte.gz\n",
            "Downloading http://fashion-mnist.s3-website.eu-central-1.amazonaws.com/t10k-images-idx3-ubyte.gz to /root/.pytorch/F_MNIST_data/FashionMNIST/raw/t10k-images-idx3-ubyte.gz\n"
          ],
          "name": "stdout"
        },
        {
          "output_type": "stream",
          "text": [
            "4423680it [00:00, 30246889.55it/s]                           \n",
            "8192it [00:00, 186294.25it/s]\n"
          ],
          "name": "stderr"
        },
        {
          "output_type": "stream",
          "text": [
            "Extracting /root/.pytorch/F_MNIST_data/FashionMNIST/raw/t10k-images-idx3-ubyte.gz\n",
            "Downloading http://fashion-mnist.s3-website.eu-central-1.amazonaws.com/t10k-labels-idx1-ubyte.gz to /root/.pytorch/F_MNIST_data/FashionMNIST/raw/t10k-labels-idx1-ubyte.gz\n",
            "Extracting /root/.pytorch/F_MNIST_data/FashionMNIST/raw/t10k-labels-idx1-ubyte.gz\n",
            "Processing...\n",
            "Done!\n"
          ],
          "name": "stdout"
        }
      ]
    },
    {
      "cell_type": "code",
      "metadata": {
        "id": "TQXN7vIHNMXV",
        "colab_type": "code",
        "colab": {}
      },
      "source": [
        "image, label = next(iter(trainloader))"
      ],
      "execution_count": 0,
      "outputs": []
    },
    {
      "cell_type": "code",
      "metadata": {
        "id": "i9Ed-kpaNPOs",
        "colab_type": "code",
        "colab": {}
      },
      "source": [
        "from torch import nn, optim\n",
        "import torch.nn.functional as F"
      ],
      "execution_count": 0,
      "outputs": []
    },
    {
      "cell_type": "code",
      "metadata": {
        "id": "QTOApshMNY8J",
        "colab_type": "code",
        "colab": {}
      },
      "source": [
        "# TODO: Define your network architecture here\n",
        "class Classifier(nn.Module):\n",
        "    def __init__(self):\n",
        "        super().__init__()\n",
        "        self.fc1 = nn.Linear(784, 256)\n",
        "        self.fc2 = nn.Linear(256, 128)\n",
        "        self.fc3 = nn.Linear(128, 64)\n",
        "        self.fc4 = nn.Linear(64, 10)\n",
        "        \n",
        "    def forward(self, x):\n",
        "        # make sure input tensor is flattened\n",
        "        x = x.view(x.shape[0], -1)\n",
        "        \n",
        "        x = F.relu(self.fc1(x))\n",
        "        x = F.relu(self.fc2(x))\n",
        "        x = F.relu(self.fc3(x))\n",
        "        x = F.log_softmax(self.fc4(x), dim=1)\n",
        "        \n",
        "        return x"
      ],
      "execution_count": 0,
      "outputs": []
    },
    {
      "cell_type": "code",
      "metadata": {
        "id": "PMeZ-kG3Na70",
        "colab_type": "code",
        "colab": {}
      },
      "source": [
        "model = Classifier()\n",
        "criterion = nn.NLLLoss()\n",
        "optimizer = optim.Adam(model.parameters(), lr=0.003)"
      ],
      "execution_count": 0,
      "outputs": []
    },
    {
      "cell_type": "code",
      "metadata": {
        "id": "nv2COcPwNd0k",
        "colab_type": "code",
        "outputId": "78d4f733-9e1b-4ba8-b213-5f996a95df44",
        "colab": {
          "base_uri": "https://localhost:8080/",
          "height": 104
        }
      },
      "source": [
        "epochs = 5\n",
        "\n",
        "for e in range(epochs):\n",
        "    running_loss = 0\n",
        "    for images, labels in trainloader:\n",
        "        log_ps = model(images)\n",
        "        loss = criterion(log_ps, labels)\n",
        "        \n",
        "        optimizer.zero_grad()\n",
        "        loss.backward()\n",
        "        optimizer.step()\n",
        "        \n",
        "        running_loss += loss.item()\n",
        "    else:\n",
        "        print(f\"Training loss: {running_loss/len(trainloader)}\")"
      ],
      "execution_count": 0,
      "outputs": [
        {
          "output_type": "stream",
          "text": [
            "Training loss: 0.5189460875954963\n",
            "Training loss: 0.3930190469918729\n",
            "Training loss: 0.3554112941725676\n",
            "Training loss: 0.3307421572530257\n",
            "Training loss: 0.31786281673479944\n"
          ],
          "name": "stdout"
        }
      ]
    },
    {
      "cell_type": "code",
      "metadata": {
        "id": "BfqTEAMnNf2g",
        "colab_type": "code",
        "colab": {}
      },
      "source": [
        "def view_classify(img, ps, version=\"MNIST\"):\n",
        "    ''' Function for viewing an image and it's predicted classes.\n",
        "    '''\n",
        "    ps = ps.data.numpy().squeeze()\n",
        "\n",
        "    fig, (ax1, ax2) = plt.subplots(figsize=(6,9), ncols=2)\n",
        "    ax1.imshow(img.resize_(1, 28, 28).numpy().squeeze())\n",
        "    ax1.axis('off')\n",
        "    ax2.barh(np.arange(10), ps)\n",
        "    ax2.set_aspect(0.1)\n",
        "    ax2.set_yticks(np.arange(10))\n",
        "    if version == \"MNIST\":\n",
        "        ax2.set_yticklabels(np.arange(10))\n",
        "    elif version == \"Fashion\":\n",
        "        ax2.set_yticklabels(['T-shirt/top',\n",
        "                            'Trouser',\n",
        "                            'Pullover',\n",
        "                            'Dress',\n",
        "                            'Coat',\n",
        "                            'Sandal',\n",
        "                            'Shirt',\n",
        "                            'Sneaker',\n",
        "                            'Bag',\n",
        "                            'Ankle Boot'], size='small');\n",
        "    ax2.set_title('Class Probability')\n",
        "    ax2.set_xlim(0, 1.1)"
      ],
      "execution_count": 0,
      "outputs": []
    },
    {
      "cell_type": "code",
      "metadata": {
        "id": "jm2Q1GbjN6NE",
        "colab_type": "code",
        "outputId": "846881c4-559e-4863-f9d8-542f18a4a595",
        "colab": {
          "base_uri": "https://localhost:8080/",
          "height": 214
        }
      },
      "source": [
        "%matplotlib inline\n",
        "%config InlineBackend.figure_format = 'retina'\n",
        "import matplotlib.pyplot as plt\n",
        "import numpy as np\n",
        "\n",
        "dataiter = iter(testloader)\n",
        "images , labels = dataiter.next()\n",
        "img = images[1]\n",
        "img = img.view(img.shape[0] , -1)\n",
        "ps = torch.exp(model(img))\n",
        "\n",
        "view_classify(img , ps , version='Fashion')"
      ],
      "execution_count": 0,
      "outputs": [
        {
          "output_type": "display_data",
          "data": {
            "image/png": "[encoded data removed]",
            "text/plain": [
              "<Figure size 432x648 with 2 Axes>"
            ]
          },
          "metadata": {
            "tags": [],
            "image/png": {
              "width": 370,
              "height": 197
            }
          }
        }
      ]
    },
    {
      "cell_type": "code",
      "metadata": {
        "id": "VOu3z9IxpdcA",
        "colab_type": "code",
        "outputId": "7268ae1d-5811-482d-c5dd-f0bad9a2e387",
        "colab": {
          "base_uri": "https://localhost:8080/",
          "height": 121
        }
      },
      "source": [
        "#code for fc_model\n",
        "\n",
        "class Network(nn.Module):\n",
        "    def __init__(self, input_size, output_size, hidden_layers, drop_p=0.5):\n",
        "        ''' Builds a feedforward network with arbitrary hidden layers.\n",
        "        \n",
        "            Arguments\n",
        "            ---------\n",
        "            input_size: integer, size of the input layer\n",
        "            output_size: integer, size of the output layer\n",
        "            hidden_layers: list of integers, the sizes of the hidden layers\n",
        "        \n",
        "        '''\n",
        "        super().__init__()\n",
        "        # Input to a hidden layer\n",
        "        self.hidden_layers = nn.ModuleList([nn.Linear(input_size, hidden_layers[0])])\n",
        "        \n",
        "        # Add a variable number of more hidden layers\n",
        "        layer_sizes = zip(hidden_layers[:-1], hidden_layers[1:])\n",
        "        self.hidden_layers.extend([nn.Linear(h1, h2) for h1, h2 in layer_sizes])\n",
        "        \n",
        "        self.output = nn.Linear(hidden_layers[-1], output_size)\n",
        "        \n",
        "        self.dropout = nn.Dropout(p=drop_p)\n",
        "        \n",
        "    def forward(self, x):\n",
        "        ''' Forward pass through the network, returns the output logits '''\n",
        "        \n",
        "        for each in self.hidden_layers:\n",
        "            x = F.relu(each(x))\n",
        "            x = self.dropout(x)\n",
        "        x = self.output(x)\n",
        "        \n",
        "        return F.log_softmax(x, dim=1)\n",
        "\n",
        "\n",
        "def validation(model, testloader, criterion):\n",
        "    accuracy = 0\n",
        "    test_loss = 0\n",
        "    for images, labels in testloader:\n",
        "\n",
        "        images = images.resize_(images.size()[0], 784)\n",
        "\n",
        "        output = model.forward(images)\n",
        "        test_loss += criterion(output, labels).item()\n",
        "\n",
        "        ## Calculating the accuracy \n",
        "        # Model's output is log-softmax, take exponential to get the probabilities\n",
        "        ps = torch.exp(output)\n",
        "        # Class with highest probability is our predicted class, compare with true label\n",
        "        equality = (labels.data == ps.max(1)[1])\n",
        "        # Accuracy is number of correct predictions divided by all predictions, just take the mean\n",
        "        accuracy += equality.type_as(torch.FloatTensor()).mean()\n",
        "\n",
        "    return test_loss, accuracy\n",
        "\n",
        "\n",
        "def train(model, trainloader, testloader, criterion, optimizer, epochs=5, print_every=40):\n",
        "    \n",
        "    steps = 0\n",
        "    running_loss = 0\n",
        "    for e in range(epochs):\n",
        "        # Model in training mode, dropout is on\n",
        "        model.train()\n",
        "        for images, labels in trainloader:\n",
        "            steps += 1\n",
        "            \n",
        "            # Flatten images into a 784 long vector\n",
        "            images.resize_(images.size()[0], 784)\n",
        "            \n",
        "            optimizer.zero_grad()\n",
        "            \n",
        "            output = model.forward(images)\n",
        "            loss = criterion(output, labels)\n",
        "            loss.backward()\n",
        "            optimizer.step()\n",
        "            \n",
        "            running_loss += loss.item()\n",
        "\n",
        "            if steps % print_every == 0:\n",
        "                # Model in inference mode, dropout is off\n",
        "                model.eval()\n",
        "                \n",
        "                # Turn off gradients for validation, will speed up inference\n",
        "                with torch.no_grad():\n",
        "                    test_loss, accuracy = validation(model, testloader, criterion)\n",
        "                \n",
        "                print(\"Epoch: {}/{}.. \".format(e+1, epochs),\n",
        "                      \"Training Loss: {:.3f}.. \".format(running_loss/print_every),\n",
        "                      \"Test Loss: {:.3f}.. \".format(test_loss/len(testloader)),\n",
        "                      \"Test Accuracy: {:.3f}\".format(accuracy/len(testloader)))\n",
        "                \n",
        "                running_loss = 0\n",
        "                \n",
        "                # Make sure dropout and grads are on for training\n",
        "model.train()"
      ],
      "execution_count": 0,
      "outputs": [
        {
          "output_type": "execute_result",
          "data": {
            "text/plain": [
              "Classifier(\n",
              "  (fc1): Linear(in_features=784, out_features=256, bias=True)\n",
              "  (fc2): Linear(in_features=256, out_features=128, bias=True)\n",
              "  (fc3): Linear(in_features=128, out_features=64, bias=True)\n",
              "  (fc4): Linear(in_features=64, out_features=10, bias=True)\n",
              ")"
            ]
          },
          "metadata": {
            "tags": []
          },
          "execution_count": 10
        }
      ]
    },
    {
      "cell_type": "code",
      "metadata": {
        "id": "wtw8FXYSpjUa",
        "colab_type": "code",
        "colab": {}
      },
      "source": [
        "model = Network(784,10 ,[512,256,128])\n",
        "criterion = nn.NLLLoss()\n",
        "optimizer = optim.Adam(model.parameters() ,lr =0.003)"
      ],
      "execution_count": 0,
      "outputs": []
    },
    {
      "cell_type": "code",
      "metadata": {
        "id": "jqo4cuxeqI0h",
        "colab_type": "code",
        "outputId": "3df6eb7c-7589-4720-c778-1e360252fa86",
        "colab": {
          "base_uri": "https://localhost:8080/",
          "height": 816
        }
      },
      "source": [
        "train(model, trainloader, testloader, criterion, optimizer, epochs=2)"
      ],
      "execution_count": 0,
      "outputs": [
        {
          "output_type": "stream",
          "text": [
            "Epoch: 1/2..  Training Loss: 0.781..  Test Loss: 0.579..  Test Accuracy: 0.794\n",
            "Epoch: 1/2..  Training Loss: 0.544..  Test Loss: 0.600..  Test Accuracy: 0.790\n",
            "Epoch: 1/2..  Training Loss: 0.572..  Test Loss: 0.528..  Test Accuracy: 0.807\n",
            "Epoch: 1/2..  Training Loss: 0.507..  Test Loss: 0.511..  Test Accuracy: 0.817\n",
            "Epoch: 1/2..  Training Loss: 0.453..  Test Loss: 0.493..  Test Accuracy: 0.825\n",
            "Epoch: 1/2..  Training Loss: 0.480..  Test Loss: 0.514..  Test Accuracy: 0.825\n",
            "Epoch: 1/2..  Training Loss: 0.496..  Test Loss: 0.514..  Test Accuracy: 0.805\n",
            "Epoch: 1/2..  Training Loss: 0.456..  Test Loss: 0.479..  Test Accuracy: 0.831\n",
            "Epoch: 1/2..  Training Loss: 0.492..  Test Loss: 0.471..  Test Accuracy: 0.825\n",
            "Epoch: 1/2..  Training Loss: 0.462..  Test Loss: 0.475..  Test Accuracy: 0.834\n",
            "Epoch: 1/2..  Training Loss: 0.425..  Test Loss: 0.497..  Test Accuracy: 0.818\n",
            "Epoch: 1/2..  Training Loss: 0.459..  Test Loss: 0.486..  Test Accuracy: 0.822\n",
            "Epoch: 1/2..  Training Loss: 0.502..  Test Loss: 0.472..  Test Accuracy: 0.833\n",
            "Epoch: 1/2..  Training Loss: 0.436..  Test Loss: 0.494..  Test Accuracy: 0.819\n",
            "Epoch: 1/2..  Training Loss: 0.444..  Test Loss: 0.477..  Test Accuracy: 0.823\n",
            "Epoch: 1/2..  Training Loss: 0.435..  Test Loss: 0.481..  Test Accuracy: 0.835\n",
            "Epoch: 1/2..  Training Loss: 0.422..  Test Loss: 0.513..  Test Accuracy: 0.812\n",
            "Epoch: 1/2..  Training Loss: 0.440..  Test Loss: 0.456..  Test Accuracy: 0.830\n",
            "Epoch: 1/2..  Training Loss: 0.431..  Test Loss: 0.441..  Test Accuracy: 0.843\n",
            "Epoch: 1/2..  Training Loss: 0.416..  Test Loss: 0.419..  Test Accuracy: 0.842\n",
            "Epoch: 1/2..  Training Loss: 0.438..  Test Loss: 0.448..  Test Accuracy: 0.839\n",
            "Epoch: 1/2..  Training Loss: 0.450..  Test Loss: 0.449..  Test Accuracy: 0.840\n",
            "Epoch: 1/2..  Training Loss: 0.427..  Test Loss: 0.460..  Test Accuracy: 0.835\n",
            "Epoch: 2/2..  Training Loss: 0.599..  Test Loss: 0.556..  Test Accuracy: 0.802\n",
            "Epoch: 2/2..  Training Loss: 0.467..  Test Loss: 0.546..  Test Accuracy: 0.812\n",
            "Epoch: 2/2..  Training Loss: 0.394..  Test Loss: 0.443..  Test Accuracy: 0.839\n",
            "Epoch: 2/2..  Training Loss: 0.409..  Test Loss: 0.455..  Test Accuracy: 0.832\n",
            "Epoch: 2/2..  Training Loss: 0.410..  Test Loss: 0.480..  Test Accuracy: 0.832\n",
            "Epoch: 2/2..  Training Loss: 0.388..  Test Loss: 0.500..  Test Accuracy: 0.819\n",
            "Epoch: 2/2..  Training Loss: 0.450..  Test Loss: 0.441..  Test Accuracy: 0.843\n",
            "Epoch: 2/2..  Training Loss: 0.408..  Test Loss: 0.439..  Test Accuracy: 0.847\n",
            "Epoch: 2/2..  Training Loss: 0.384..  Test Loss: 0.438..  Test Accuracy: 0.843\n",
            "Epoch: 2/2..  Training Loss: 0.415..  Test Loss: 0.443..  Test Accuracy: 0.843\n",
            "Epoch: 2/2..  Training Loss: 0.381..  Test Loss: 0.472..  Test Accuracy: 0.837\n",
            "Epoch: 2/2..  Training Loss: 0.405..  Test Loss: 0.459..  Test Accuracy: 0.831\n",
            "Epoch: 2/2..  Training Loss: 0.412..  Test Loss: 0.407..  Test Accuracy: 0.856\n",
            "Epoch: 2/2..  Training Loss: 0.375..  Test Loss: 0.413..  Test Accuracy: 0.848\n",
            "Epoch: 2/2..  Training Loss: 0.385..  Test Loss: 0.442..  Test Accuracy: 0.843\n",
            "Epoch: 2/2..  Training Loss: 0.404..  Test Loss: 0.405..  Test Accuracy: 0.853\n",
            "Epoch: 2/2..  Training Loss: 0.373..  Test Loss: 0.404..  Test Accuracy: 0.857\n",
            "Epoch: 2/2..  Training Loss: 0.384..  Test Loss: 0.435..  Test Accuracy: 0.847\n",
            "Epoch: 2/2..  Training Loss: 0.397..  Test Loss: 0.444..  Test Accuracy: 0.833\n",
            "Epoch: 2/2..  Training Loss: 0.398..  Test Loss: 0.445..  Test Accuracy: 0.844\n",
            "Epoch: 2/2..  Training Loss: 0.418..  Test Loss: 0.424..  Test Accuracy: 0.846\n",
            "Epoch: 2/2..  Training Loss: 0.378..  Test Loss: 0.398..  Test Accuracy: 0.859\n",
            "Epoch: 2/2..  Training Loss: 0.393..  Test Loss: 0.401..  Test Accuracy: 0.854\n"
          ],
          "name": "stdout"
        }
      ]
    },
    {
      "cell_type": "code",
      "metadata": {
        "id": "vl4UaClxqeV7",
        "colab_type": "code",
        "outputId": "5075f0d3-94fb-46f4-8aa3-e63b5cfd939d",
        "colab": {
          "base_uri": "https://localhost:8080/",
          "height": 228
        }
      },
      "source": [
        "print(\"our model:  \" , model , '\\n')\n",
        "print(model.state_dict().keys())"
      ],
      "execution_count": 0,
      "outputs": [
        {
          "output_type": "stream",
          "text": [
            "our model:   Network(\n",
            "  (hidden_layers): ModuleList(\n",
            "    (0): Linear(in_features=784, out_features=512, bias=True)\n",
            "    (1): Linear(in_features=512, out_features=256, bias=True)\n",
            "    (2): Linear(in_features=256, out_features=128, bias=True)\n",
            "  )\n",
            "  (output): Linear(in_features=128, out_features=10, bias=True)\n",
            "  (dropout): Dropout(p=0.5)\n",
            ") \n",
            "\n",
            "odict_keys(['hidden_layers.0.weight', 'hidden_layers.0.bias', 'hidden_layers.1.weight', 'hidden_layers.1.bias', 'hidden_layers.2.weight', 'hidden_layers.2.bias', 'output.weight', 'output.bias'])\n"
          ],
          "name": "stdout"
        }
      ]
    },
    {
      "cell_type": "code",
      "metadata": {
        "id": "RVof5kWXqvX4",
        "colab_type": "code",
        "colab": {}
      },
      "source": [
        "torch.save(model.state_dict(), 'checkpoint.pth')"
      ],
      "execution_count": 0,
      "outputs": []
    },
    {
      "cell_type": "code",
      "metadata": {
        "id": "reQPlNlYqzBk",
        "colab_type": "code",
        "outputId": "ced55ce7-3db4-4558-b2b0-3ecb96c27c57",
        "colab": {
          "base_uri": "https://localhost:8080/",
          "height": 54
        }
      },
      "source": [
        "state_dict = torch.load('checkpoint.pth')\n",
        "print(state_dict.keys())"
      ],
      "execution_count": 0,
      "outputs": [
        {
          "output_type": "stream",
          "text": [
            "odict_keys(['hidden_layers.0.weight', 'hidden_layers.0.bias', 'hidden_layers.1.weight', 'hidden_layers.1.bias', 'hidden_layers.2.weight', 'hidden_layers.2.bias', 'output.weight', 'output.bias'])\n"
          ],
          "name": "stdout"
        }
      ]
    },
    {
      "cell_type": "code",
      "metadata": {
        "id": "6ThvMs7pqzvt",
        "colab_type": "code",
        "outputId": "67795848-db75-4b4f-9b6a-08204fe2601d",
        "colab": {
          "base_uri": "https://localhost:8080/",
          "height": 34
        }
      },
      "source": [
        "model.load_state_dict(state_dict)"
      ],
      "execution_count": 0,
      "outputs": [
        {
          "output_type": "execute_result",
          "data": {
            "text/plain": [
              "IncompatibleKeys(missing_keys=[], unexpected_keys=[])"
            ]
          },
          "metadata": {
            "tags": []
          },
          "execution_count": 21
        }
      ]
    },
    {
      "cell_type": "code",
      "metadata": {
        "id": "ZEe-S_jY2Nu2",
        "colab_type": "code",
        "outputId": "d59967f5-c481-42c8-a260-d2e5879bd63c",
        "colab": {
          "base_uri": "https://localhost:8080/",
          "height": 34
        }
      },
      "source": [
        "torch.cuda.torch.cuda.is_available()"
      ],
      "execution_count": 0,
      "outputs": [
        {
          "output_type": "execute_result",
          "data": {
            "text/plain": [
              "True"
            ]
          },
          "metadata": {
            "tags": []
          },
          "execution_count": 3
        }
      ]
    }
  ]
}