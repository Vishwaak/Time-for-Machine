{
  "nbformat": 4,
  "nbformat_minor": 0,
  "metadata": {
    "colab": {
      "name": "Differential Privacy.ipynb",
      "version": "0.3.2",
      "provenance": [],
      "collapsed_sections": [],
      "include_colab_link": true
    },
    "kernelspec": {
      "name": "python3",
      "display_name": "Python 3"
    }
  },
  "cells": [
    {
      "cell_type": "markdown",
      "metadata": {
        "id": "view-in-github",
        "colab_type": "text"
      },
      "source": [
        "<a href=\"https://colab.research.google.com/github/Vishwaak/Time-for-Machine/blob/master/Differential_Privacy.ipynb\" target=\"_parent\"><img src=\"https://colab.research.google.com/assets/colab-badge.svg\" alt=\"Open In Colab\"/></a>"
      ]
    },
    {
      "cell_type": "code",
      "metadata": {
        "id": "Jdd5OzNwFtaB",
        "colab_type": "code",
        "outputId": "a4a7de31-8984-429e-8864-fe5a69172ebb",
        "colab": {
          "base_uri": "https://localhost:8080/",
          "height": 34
        }
      },
      "source": [
        "import torch\n",
        "\n",
        "num_entries = 5000\n",
        "db = torch.rand(num_entries) > 0.5\n",
        "db\n"
      ],
      "execution_count": 15,
      "outputs": [
        {
          "output_type": "execute_result",
          "data": {
            "text/plain": [
              "tensor([0, 1, 1,  ..., 0, 0, 0], dtype=torch.uint8)"
            ]
          },
          "metadata": {
            "tags": []
          },
          "execution_count": 15
        }
      ]
    },
    {
      "cell_type": "code",
      "metadata": {
        "id": "DAUlp4QrF-OL",
        "colab_type": "code",
        "colab": {}
      },
      "source": [
        "def get_parallel_db(db, remove_index):\n",
        "\n",
        "    return torch.cat((db[0:remove_index], \n",
        "                      db[remove_index+1:]))"
      ],
      "execution_count": 0,
      "outputs": []
    },
    {
      "cell_type": "code",
      "metadata": {
        "id": "hrDJx-auHCQV",
        "colab_type": "code",
        "colab": {}
      },
      "source": [
        "def get_parallel_dbs(db):\n",
        "\n",
        "    parallel_dbs = list()\n",
        "\n",
        "    for i in range(len(db)):\n",
        "        pdb = get_parallel_db(db, i)\n",
        "        parallel_dbs.append(pdb)\n",
        "    \n",
        "    return parallel_dbs\n",
        "  "
      ],
      "execution_count": 0,
      "outputs": []
    },
    {
      "cell_type": "code",
      "metadata": {
        "id": "OOkWjXCVHMbd",
        "colab_type": "code",
        "colab": {}
      },
      "source": [
        "pdbs = get_parallel_dbs(db)"
      ],
      "execution_count": 0,
      "outputs": []
    },
    {
      "cell_type": "code",
      "metadata": {
        "id": "fAgQlR3pHmzB",
        "colab_type": "code",
        "colab": {}
      },
      "source": [
        "def create_db_and_parallels(num_entries):\n",
        "    \n",
        "    db = torch.rand(num_entries) > 0.5\n",
        "    pdbs = get_parallel_dbs(db)\n",
        "    \n",
        "    return db, pdbs\n"
      ],
      "execution_count": 0,
      "outputs": []
    },
    {
      "cell_type": "code",
      "metadata": {
        "id": "ECa35FmkIbqf",
        "colab_type": "code",
        "colab": {}
      },
      "source": [
        "\n",
        "\n",
        "db, pdbs = create_db_and_parallels(5000)\n",
        "\n"
      ],
      "execution_count": 0,
      "outputs": []
    },
    {
      "cell_type": "code",
      "metadata": {
        "id": "koSj4iU7IdNy",
        "colab_type": "code",
        "colab": {}
      },
      "source": [
        "def query(db):\n",
        "  return db.sum()"
      ],
      "execution_count": 0,
      "outputs": []
    },
    {
      "cell_type": "code",
      "metadata": {
        "id": "OF20rBCQCeN2",
        "colab_type": "code",
        "colab": {}
      },
      "source": [
        "full_db_result = query(db)"
      ],
      "execution_count": 0,
      "outputs": []
    },
    {
      "cell_type": "code",
      "metadata": {
        "id": "pFKahoXlCks-",
        "colab_type": "code",
        "colab": {}
      },
      "source": [
        "sensitivity = 0\n",
        "for pdb in pdbs:\n",
        "    pdb_result = query(pdb)\n",
        "    \n",
        "    db_distance = torch.abs(pdb_result - full_db_result)\n",
        "    \n",
        "    if(db_distance > sensitivity):\n",
        "        sensitivity = db_distance"
      ],
      "execution_count": 0,
      "outputs": []
    },
    {
      "cell_type": "code",
      "metadata": {
        "id": "iIK1GLPSC6AN",
        "colab_type": "code",
        "colab": {
          "base_uri": "https://localhost:8080/",
          "height": 34
        },
        "outputId": "d17ed008-4581-4b1d-8db3-585bdaa50441"
      },
      "source": [
        "sensitivity"
      ],
      "execution_count": 26,
      "outputs": [
        {
          "output_type": "execute_result",
          "data": {
            "text/plain": [
              "tensor(1)"
            ]
          },
          "metadata": {
            "tags": []
          },
          "execution_count": 26
        }
      ]
    },
    {
      "cell_type": "code",
      "metadata": {
        "id": "VR4kmIVgC7k6",
        "colab_type": "code",
        "colab": {}
      },
      "source": [
        "def sensitivity(query, n_entries=1000):\n",
        "\n",
        "    db, pdbs = create_db_and_parallels(n_entries)\n",
        "    \n",
        "    full_db_result = query(db)\n",
        "    \n",
        "    max_distance = 0\n",
        "    for pdb in pdbs:\n",
        "        pdb_result = query(pdb)\n",
        "\n",
        "        db_distance = torch.abs(pdb_result - full_db_result)\n",
        "\n",
        "        if(db_distance > max_distance):\n",
        "            max_distance = db_distance\n",
        "            \n",
        "    return max_distance\n",
        "    \n",
        "    "
      ],
      "execution_count": 0,
      "outputs": []
    },
    {
      "cell_type": "code",
      "metadata": {
        "id": "cgOzy4pJYIDx",
        "colab_type": "code",
        "colab": {}
      },
      "source": [
        "def query(db):\n",
        "    return db.float().mean()"
      ],
      "execution_count": 0,
      "outputs": []
    },
    {
      "cell_type": "code",
      "metadata": {
        "id": "rTPbjFPIY94v",
        "colab_type": "code",
        "colab": {
          "base_uri": "https://localhost:8080/",
          "height": 34
        },
        "outputId": "5772ae81-df38-4833-b465-af0c04291ac5"
      },
      "source": [
        "sensitivity(query)"
      ],
      "execution_count": 35,
      "outputs": [
        {
          "output_type": "execute_result",
          "data": {
            "text/plain": [
              "tensor(0.0005)"
            ]
          },
          "metadata": {
            "tags": []
          },
          "execution_count": 35
        }
      ]
    },
    {
      "cell_type": "code",
      "metadata": {
        "id": "m9KnTRPxY_eQ",
        "colab_type": "code",
        "colab": {}
      },
      "source": [
        "db, pdbs = create_db_and_parallels(20)"
      ],
      "execution_count": 0,
      "outputs": []
    },
    {
      "cell_type": "code",
      "metadata": {
        "id": "79bIFozSZNVo",
        "colab_type": "code",
        "colab": {
          "base_uri": "https://localhost:8080/",
          "height": 52
        },
        "outputId": "9cb32d02-87ed-44bf-8dc9-4a72a5926e0d"
      },
      "source": [
        "db\n"
      ],
      "execution_count": 37,
      "outputs": [
        {
          "output_type": "execute_result",
          "data": {
            "text/plain": [
              "tensor([0, 0, 1, 1, 0, 0, 1, 1, 0, 0, 1, 0, 1, 0, 1, 0, 0, 0, 1, 1],\n",
              "       dtype=torch.uint8)"
            ]
          },
          "metadata": {
            "tags": []
          },
          "execution_count": 37
        }
      ]
    },
    {
      "cell_type": "code",
      "metadata": {
        "id": "0v3-40WdZPSF",
        "colab_type": "code",
        "colab": {}
      },
      "source": [
        "def query(db, threshold=5):\n",
        "    return (db.sum() > threshold).float()"
      ],
      "execution_count": 0,
      "outputs": []
    },
    {
      "cell_type": "code",
      "metadata": {
        "id": "NzCEzunkZe5C",
        "colab_type": "code",
        "colab": {
          "base_uri": "https://localhost:8080/",
          "height": 191
        },
        "outputId": "62b758c4-2c54-4943-b8ae-9c8436226581"
      },
      "source": [
        "for i in range(10):\n",
        "    sens_f = sensitivity(query, n_entries=10)\n",
        "    print(sens_f)\n"
      ],
      "execution_count": 40,
      "outputs": [
        {
          "output_type": "stream",
          "text": [
            "tensor(1.)\n",
            "0\n",
            "0\n",
            "0\n",
            "tensor(1.)\n",
            "0\n",
            "0\n",
            "0\n",
            "0\n",
            "0\n"
          ],
          "name": "stdout"
        }
      ]
    }
  ]
}