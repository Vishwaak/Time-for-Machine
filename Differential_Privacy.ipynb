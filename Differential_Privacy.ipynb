{
  "nbformat": 4,
  "nbformat_minor": 0,
  "metadata": {
    "colab": {
      "name": "Differential Privacy.ipynb",
      "version": "0.3.2",
      "provenance": [],
      "collapsed_sections": [],
      "include_colab_link": true
    },
    "kernelspec": {
      "name": "python3",
      "display_name": "Python 3"
    }
  },
  "cells": [
    {
      "cell_type": "markdown",
      "metadata": {
        "id": "view-in-github",
        "colab_type": "text"
      },
      "source": [
        "<a href=\"https://colab.research.google.com/github/Vishwaak/Time-for-Machine/blob/master/Differential_Privacy.ipynb\" target=\"_parent\"><img src=\"https://colab.research.google.com/assets/colab-badge.svg\" alt=\"Open In Colab\"/></a>"
      ]
    },
    {
      "cell_type": "code",
      "metadata": {
        "id": "Jdd5OzNwFtaB",
        "colab_type": "code",
        "outputId": "ff8e4a22-e1a4-4216-9615-f7583f2553ba",
        "colab": {
          "base_uri": "https://localhost:8080/",
          "height": 34
        }
      },
      "source": [
        "import torch\n",
        "\n",
        "num_entries = 5000\n",
        "db = torch.rand(num_entries) > 0.5\n",
        "db\n"
      ],
      "execution_count": 1,
      "outputs": [
        {
          "output_type": "execute_result",
          "data": {
            "text/plain": [
              "tensor([1, 1, 0,  ..., 1, 1, 0], dtype=torch.uint8)"
            ]
          },
          "metadata": {
            "tags": []
          },
          "execution_count": 1
        }
      ]
    },
    {
      "cell_type": "code",
      "metadata": {
        "id": "DAUlp4QrF-OL",
        "colab_type": "code",
        "colab": {}
      },
      "source": [
        "def get_parallel_db(db, remove_index):\n",
        "\n",
        "    return torch.cat((db[0:remove_index], \n",
        "                      db[remove_index+1:]))"
      ],
      "execution_count": 0,
      "outputs": []
    },
    {
      "cell_type": "code",
      "metadata": {
        "id": "hrDJx-auHCQV",
        "colab_type": "code",
        "colab": {}
      },
      "source": [
        "def get_parallel_dbs(db):\n",
        "\n",
        "    parallel_dbs = list()\n",
        "\n",
        "    for i in range(len(db)):\n",
        "        pdb = get_parallel_db(db, i)\n",
        "        parallel_dbs.append(pdb)\n",
        "    \n",
        "    return parallel_dbs\n",
        "  "
      ],
      "execution_count": 0,
      "outputs": []
    },
    {
      "cell_type": "code",
      "metadata": {
        "id": "OOkWjXCVHMbd",
        "colab_type": "code",
        "colab": {}
      },
      "source": [
        "pdbs = get_parallel_dbs(db)"
      ],
      "execution_count": 0,
      "outputs": []
    },
    {
      "cell_type": "code",
      "metadata": {
        "id": "fAgQlR3pHmzB",
        "colab_type": "code",
        "colab": {}
      },
      "source": [
        "def create_db_and_parallels(num_entries):\n",
        "    \n",
        "    db = torch.rand(num_entries) > 0.5\n",
        "    pdbs = get_parallel_dbs(db)\n",
        "    \n",
        "    return db, pdbs\n"
      ],
      "execution_count": 0,
      "outputs": []
    },
    {
      "cell_type": "code",
      "metadata": {
        "id": "ECa35FmkIbqf",
        "colab_type": "code",
        "colab": {}
      },
      "source": [
        "\n",
        "\n",
        "db, pdbs = create_db_and_parallels(5000)\n",
        "\n"
      ],
      "execution_count": 0,
      "outputs": []
    },
    {
      "cell_type": "code",
      "metadata": {
        "id": "koSj4iU7IdNy",
        "colab_type": "code",
        "colab": {}
      },
      "source": [
        "def query(db):\n",
        "  return db.sum()"
      ],
      "execution_count": 0,
      "outputs": []
    },
    {
      "cell_type": "code",
      "metadata": {
        "id": "OF20rBCQCeN2",
        "colab_type": "code",
        "colab": {}
      },
      "source": [
        "full_db_result = query(db)"
      ],
      "execution_count": 0,
      "outputs": []
    },
    {
      "cell_type": "code",
      "metadata": {
        "id": "pFKahoXlCks-",
        "colab_type": "code",
        "colab": {}
      },
      "source": [
        "sensitivity = 0\n",
        "for pdb in pdbs:\n",
        "    pdb_result = query(pdb)\n",
        "    \n",
        "    db_distance = torch.abs(pdb_result - full_db_result)\n",
        "    \n",
        "    if(db_distance > sensitivity):\n",
        "        sensitivity = db_distance"
      ],
      "execution_count": 0,
      "outputs": []
    },
    {
      "cell_type": "code",
      "metadata": {
        "id": "iIK1GLPSC6AN",
        "colab_type": "code",
        "outputId": "5b15950f-027b-44b3-8e06-1a468517443f",
        "colab": {
          "base_uri": "https://localhost:8080/",
          "height": 34
        }
      },
      "source": [
        "sensitivity"
      ],
      "execution_count": 10,
      "outputs": [
        {
          "output_type": "execute_result",
          "data": {
            "text/plain": [
              "tensor(1)"
            ]
          },
          "metadata": {
            "tags": []
          },
          "execution_count": 10
        }
      ]
    },
    {
      "cell_type": "code",
      "metadata": {
        "id": "VR4kmIVgC7k6",
        "colab_type": "code",
        "colab": {}
      },
      "source": [
        "def sensitivity(query, n_entries=1000):\n",
        "\n",
        "    db, pdbs = create_db_and_parallels(n_entries)\n",
        "    \n",
        "    full_db_result = query(db)\n",
        "    \n",
        "    max_distance = 0\n",
        "    for pdb in pdbs:\n",
        "        pdb_result = query(pdb)\n",
        "\n",
        "        db_distance = torch.abs(pdb_result - full_db_result)\n",
        "\n",
        "        if(db_distance > max_distance):\n",
        "            max_distance = db_distance\n",
        "            \n",
        "    return max_distance\n",
        "    \n",
        "    "
      ],
      "execution_count": 0,
      "outputs": []
    },
    {
      "cell_type": "code",
      "metadata": {
        "id": "cgOzy4pJYIDx",
        "colab_type": "code",
        "colab": {}
      },
      "source": [
        "def query(db):\n",
        "    return db.float().mean()"
      ],
      "execution_count": 0,
      "outputs": []
    },
    {
      "cell_type": "code",
      "metadata": {
        "id": "rTPbjFPIY94v",
        "colab_type": "code",
        "outputId": "d2bb680e-d99f-44bb-d9e1-972648c619bf",
        "colab": {
          "base_uri": "https://localhost:8080/",
          "height": 34
        }
      },
      "source": [
        "sensitivity(query)"
      ],
      "execution_count": 13,
      "outputs": [
        {
          "output_type": "execute_result",
          "data": {
            "text/plain": [
              "tensor(0.0005)"
            ]
          },
          "metadata": {
            "tags": []
          },
          "execution_count": 13
        }
      ]
    },
    {
      "cell_type": "code",
      "metadata": {
        "id": "m9KnTRPxY_eQ",
        "colab_type": "code",
        "colab": {}
      },
      "source": [
        "db, pdbs = create_db_and_parallels(20)"
      ],
      "execution_count": 0,
      "outputs": []
    },
    {
      "cell_type": "code",
      "metadata": {
        "id": "79bIFozSZNVo",
        "colab_type": "code",
        "outputId": "ed7a2d5f-b5b5-4846-eeec-6fb1760b5283",
        "colab": {
          "base_uri": "https://localhost:8080/",
          "height": 52
        }
      },
      "source": [
        "db\n"
      ],
      "execution_count": 15,
      "outputs": [
        {
          "output_type": "execute_result",
          "data": {
            "text/plain": [
              "tensor([1, 0, 1, 0, 0, 0, 1, 0, 0, 0, 1, 0, 1, 0, 1, 0, 0, 0, 1, 0],\n",
              "       dtype=torch.uint8)"
            ]
          },
          "metadata": {
            "tags": []
          },
          "execution_count": 15
        }
      ]
    },
    {
      "cell_type": "code",
      "metadata": {
        "id": "0v3-40WdZPSF",
        "colab_type": "code",
        "colab": {}
      },
      "source": [
        "def query(db, threshold=5):\n",
        "    return (db.sum() > threshold).float()"
      ],
      "execution_count": 0,
      "outputs": []
    },
    {
      "cell_type": "code",
      "metadata": {
        "id": "NzCEzunkZe5C",
        "colab_type": "code",
        "outputId": "5f95a551-1bc9-4333-a31f-0a66b7fb455d",
        "colab": {
          "base_uri": "https://localhost:8080/",
          "height": 191
        }
      },
      "source": [
        "for i in range(10):\n",
        "    sens_f = sensitivity(query, n_entries=10)\n",
        "    print(sens_f)\n"
      ],
      "execution_count": 17,
      "outputs": [
        {
          "output_type": "stream",
          "text": [
            "0\n",
            "0\n",
            "tensor(1.)\n",
            "0\n",
            "0\n",
            "0\n",
            "0\n",
            "0\n",
            "0\n",
            "0\n"
          ],
          "name": "stdout"
        }
      ]
    },
    {
      "cell_type": "code",
      "metadata": {
        "id": "lzegT1ENFKbg",
        "colab_type": "code",
        "colab": {}
      },
      "source": [
        "\n",
        "db, _  = create_db_and_parallels(100)"
      ],
      "execution_count": 0,
      "outputs": []
    },
    {
      "cell_type": "code",
      "metadata": {
        "id": "xNbvgL1JFOtP",
        "colab_type": "code",
        "colab": {}
      },
      "source": [
        "pdb = get_parallel_db(db , remove_index=10)"
      ],
      "execution_count": 0,
      "outputs": []
    },
    {
      "cell_type": "code",
      "metadata": {
        "id": "emscHseUFVS5",
        "colab_type": "code",
        "outputId": "132500d6-ae0d-4c74-df8b-78340922c39d",
        "colab": {
          "base_uri": "https://localhost:8080/",
          "height": 34
        }
      },
      "source": [
        "db[10]"
      ],
      "execution_count": 20,
      "outputs": [
        {
          "output_type": "execute_result",
          "data": {
            "text/plain": [
              "tensor(0, dtype=torch.uint8)"
            ]
          },
          "metadata": {
            "tags": []
          },
          "execution_count": 20
        }
      ]
    },
    {
      "cell_type": "code",
      "metadata": {
        "id": "R59wHVtIFW0N",
        "colab_type": "code",
        "outputId": "96123233-ba0b-424f-b2f5-de66ad26deef",
        "colab": {
          "base_uri": "https://localhost:8080/",
          "height": 34
        }
      },
      "source": [
        "sum(db)"
      ],
      "execution_count": 21,
      "outputs": [
        {
          "output_type": "execute_result",
          "data": {
            "text/plain": [
              "tensor(48, dtype=torch.uint8)"
            ]
          },
          "metadata": {
            "tags": []
          },
          "execution_count": 21
        }
      ]
    },
    {
      "cell_type": "code",
      "metadata": {
        "id": "xpOtBJvWFbL5",
        "colab_type": "code",
        "outputId": "c97b95d0-6d27-46ce-8aa9-f63659d26da3",
        "colab": {
          "base_uri": "https://localhost:8080/",
          "height": 34
        }
      },
      "source": [
        "sum(db) - sum(pdb)"
      ],
      "execution_count": 22,
      "outputs": [
        {
          "output_type": "execute_result",
          "data": {
            "text/plain": [
              "tensor(0, dtype=torch.uint8)"
            ]
          },
          "metadata": {
            "tags": []
          },
          "execution_count": 22
        }
      ]
    },
    {
      "cell_type": "code",
      "metadata": {
        "id": "3W1fVMVsFi9T",
        "colab_type": "code",
        "outputId": "01ec9997-ad72-45d5-aafa-1b8a2da57ec9",
        "colab": {
          "base_uri": "https://localhost:8080/",
          "height": 34
        }
      },
      "source": [
        "(sum(db).float() / len(db)) - (sum(pdb).float() / len(pdb))"
      ],
      "execution_count": 23,
      "outputs": [
        {
          "output_type": "execute_result",
          "data": {
            "text/plain": [
              "tensor(-0.0048)"
            ]
          },
          "metadata": {
            "tags": []
          },
          "execution_count": 23
        }
      ]
    },
    {
      "cell_type": "code",
      "metadata": {
        "id": "6HmAtYUWFnxk",
        "colab_type": "code",
        "outputId": "29712de4-d606-4ceb-f252-b1ad78c14165",
        "colab": {
          "base_uri": "https://localhost:8080/",
          "height": 34
        }
      },
      "source": [
        "(sum(db).float() > 49) - (sum(pdb).float()  > 49)"
      ],
      "execution_count": 24,
      "outputs": [
        {
          "output_type": "execute_result",
          "data": {
            "text/plain": [
              "tensor(0, dtype=torch.uint8)"
            ]
          },
          "metadata": {
            "tags": []
          },
          "execution_count": 24
        }
      ]
    },
    {
      "cell_type": "code",
      "metadata": {
        "id": "vnDgwCxRFqXF",
        "colab_type": "code",
        "outputId": "1d5b8bb1-7c28-457d-8b32-5251683fb6f9",
        "colab": {
          "base_uri": "https://localhost:8080/",
          "height": 124
        }
      },
      "source": [
        "db \n"
      ],
      "execution_count": 25,
      "outputs": [
        {
          "output_type": "execute_result",
          "data": {
            "text/plain": [
              "tensor([0, 0, 1, 1, 1, 1, 0, 0, 1, 0, 0, 1, 0, 0, 0, 1, 1, 1, 0, 0, 1, 1, 1, 0,\n",
              "        1, 0, 0, 0, 0, 0, 0, 0, 1, 0, 0, 0, 1, 0, 1, 1, 1, 1, 0, 1, 0, 1, 1, 0,\n",
              "        0, 1, 1, 0, 1, 0, 1, 1, 0, 0, 0, 1, 0, 1, 0, 0, 1, 1, 1, 1, 0, 0, 0, 1,\n",
              "        0, 0, 0, 1, 1, 1, 0, 1, 0, 0, 0, 1, 1, 1, 1, 1, 1, 0, 0, 0, 0, 0, 1, 0,\n",
              "        0, 1, 1, 1], dtype=torch.uint8)"
            ]
          },
          "metadata": {
            "tags": []
          },
          "execution_count": 25
        }
      ]
    },
    {
      "cell_type": "code",
      "metadata": {
        "id": "UrE883-vbU_z",
        "colab_type": "code",
        "colab": {}
      },
      "source": [
        "def query(db):\n",
        "  true_result = torch.mean(db.float())\n",
        "  \n",
        "  first_coin_flip = (torch.rand(len(db)) < 0.5).float()\n",
        "  second_coin_flip = (torch.rand(len(db)) < 0.5).float()\n",
        "  augmented_database = db.float() * first_coin_flip + (1 - first_coin_flip) * second_coin_flip\n",
        "  db_result = torch.mean(augmented_database.float()) * 2 - 0.5\n",
        "    \n",
        "  return db_result, true_result\n"
      ],
      "execution_count": 0,
      "outputs": []
    },
    {
      "cell_type": "code",
      "metadata": {
        "id": "VtBg4lLyb7cj",
        "colab_type": "code",
        "outputId": "bd8db81a-3b6d-487c-c83f-3c27f75dcf36",
        "colab": {
          "base_uri": "https://localhost:8080/",
          "height": 52
        }
      },
      "source": [
        "\n",
        "db, pdbs = create_db_and_parallels(10)\n",
        "private_result, true_result = query(db)\n",
        "print(\"With Noise:\" + str(private_result))\n",
        "print(\"Without Noise:\" + str(true_result))\n",
        "\n"
      ],
      "execution_count": 27,
      "outputs": [
        {
          "output_type": "stream",
          "text": [
            "With Noise:tensor(0.3000)\n",
            "Without Noise:tensor(0.6000)\n"
          ],
          "name": "stdout"
        }
      ]
    },
    {
      "cell_type": "code",
      "metadata": {
        "id": "3sOOsCEWcAFQ",
        "colab_type": "code",
        "outputId": "b52dbbcf-ce39-4d8b-ca94-2c92afc7a347",
        "colab": {
          "base_uri": "https://localhost:8080/",
          "height": 52
        }
      },
      "source": [
        "db, pdbs = create_db_and_parallels(10000)\n",
        "private_result, true_result = query(db)\n",
        "print(\"With Noise:\" + str(private_result))\n",
        "print(\"Without Noise:\" + str(true_result))\n"
      ],
      "execution_count": 28,
      "outputs": [
        {
          "output_type": "stream",
          "text": [
            "With Noise:tensor(0.5034)\n",
            "Without Noise:tensor(0.5035)\n"
          ],
          "name": "stdout"
        }
      ]
    },
    {
      "cell_type": "code",
      "metadata": {
        "id": "MQH7Zia72AIr",
        "colab_type": "code",
        "colab": {}
      },
      "source": [
        "def query(db,noise = 0.2):\n",
        "  true_result = torch.mean(db.float())\n",
        "  \n",
        "  first_coin_flip = (torch.rand(len(db)) < noise).float()\n",
        "  second_coin_flip = (torch.rand(len(db)) < 0.5).float()\n",
        "  \n",
        "  augmented_database = db.float() * first_coin_flip + (1 - first_coin_flip) * second_coin_flip\n",
        "  sk_result = augmented_database.float().mean()\n",
        "  \n",
        "  private_result = ((sk_result / noise) - 0.5) * noise / (1 - noise)\n",
        "  \n",
        "  return private_result , true_result\n",
        "  "
      ],
      "execution_count": 0,
      "outputs": []
    },
    {
      "cell_type": "code",
      "metadata": {
        "id": "YetutRKA2G3v",
        "colab_type": "code",
        "outputId": "7f4b524d-4d54-418e-ea60-cd96ed459fe1",
        "colab": {
          "base_uri": "https://localhost:8080/",
          "height": 52
        }
      },
      "source": [
        "db, pdbs = create_db_and_parallels(10)\n",
        "private_result, true_result = query(db, noise=0.1)\n",
        "print(\"With Noise:\" + str(private_result))\n",
        "print(\"Without Noise:\" + str(true_result))\n"
      ],
      "execution_count": 30,
      "outputs": [
        {
          "output_type": "stream",
          "text": [
            "With Noise:tensor(0.5000)\n",
            "Without Noise:tensor(0.7000)\n"
          ],
          "name": "stdout"
        }
      ]
    },
    {
      "cell_type": "code",
      "metadata": {
        "id": "8aZkiQ6C3rlw",
        "colab_type": "code",
        "outputId": "3f7039cb-f4d8-44c0-dd9d-a78a151115bc",
        "colab": {
          "base_uri": "https://localhost:8080/",
          "height": 52
        }
      },
      "source": [
        "db , pdbs = create_db_and_parallels(100)\n",
        "private_result , true_result = query(db ,noise=0.2)\n",
        "print(\"With noise: \" + str(private_result))\n",
        "print(\"Without noise: \" + str(true_result))"
      ],
      "execution_count": 31,
      "outputs": [
        {
          "output_type": "stream",
          "text": [
            "With noise: tensor(0.5000)\n",
            "Without noise: tensor(0.4100)\n"
          ],
          "name": "stdout"
        }
      ]
    },
    {
      "cell_type": "code",
      "metadata": {
        "id": "hOkyiM5a4Wv-",
        "colab_type": "code",
        "outputId": "c4196a18-e63b-439c-899a-3b03c759d07e",
        "colab": {
          "base_uri": "https://localhost:8080/",
          "height": 52
        }
      },
      "source": [
        "db , pdbs = create_db_and_parallels(100)\n",
        "private_result , true_result = query(db ,noise=0.4)\n",
        "print(\"With noise: \" + str(private_result))\n",
        "print(\"Without noise: \" + str(true_result))"
      ],
      "execution_count": 32,
      "outputs": [
        {
          "output_type": "stream",
          "text": [
            "With noise: tensor(0.5000)\n",
            "Without noise: tensor(0.4900)\n"
          ],
          "name": "stdout"
        }
      ]
    },
    {
      "cell_type": "code",
      "metadata": {
        "id": "w9cHODsy4ZDj",
        "colab_type": "code",
        "outputId": "c3891e12-b3b8-4e01-8fed-ddbf235bab84",
        "colab": {
          "base_uri": "https://localhost:8080/",
          "height": 34
        }
      },
      "source": [
        "db , pdbs = create_db_and_parallels(100)\n",
        "\n",
        "def query(db):\n",
        "  return torch.sum(db.float())\n",
        "\n",
        "def global_privacy(db):\n",
        "  return db + noise\n",
        "\n",
        "query(db)"
      ],
      "execution_count": 33,
      "outputs": [
        {
          "output_type": "execute_result",
          "data": {
            "text/plain": [
              "tensor(52.)"
            ]
          },
          "metadata": {
            "tags": []
          },
          "execution_count": 33
        }
      ]
    },
    {
      "cell_type": "code",
      "metadata": {
        "id": "wxx5ogt58MzE",
        "colab_type": "code",
        "colab": {}
      },
      "source": [
        "epsilon = 0.001\n",
        "import numpy as np\n",
        "\n",
        "db, pdbs = create_db_and_parallels(100)\n",
        "\n",
        "def sum_query(db):\n",
        "    return db.sum()\n",
        "\n",
        "def laplacian_mechanism(db , query , sensitivity):\n",
        "  \n",
        "  beta = sensitivity / epsilon\n",
        "  noise = torch.tensor(np.random.laplace(0 , beta , 1))\n",
        "  \n",
        "  return query(db) + noise\n"
      ],
      "execution_count": 0,
      "outputs": []
    },
    {
      "cell_type": "code",
      "metadata": {
        "id": "kZaCjQvOE95C",
        "colab_type": "code",
        "colab": {}
      },
      "source": [
        "def mean_query(db):\n",
        "  return torch.mean(db.float())"
      ],
      "execution_count": 0,
      "outputs": []
    },
    {
      "cell_type": "code",
      "metadata": {
        "id": "rrEdH-OoFH-x",
        "colab_type": "code",
        "outputId": "0c95b2c8-a6de-443c-afd5-5814a1db39a5",
        "colab": {
          "base_uri": "https://localhost:8080/",
          "height": 34
        }
      },
      "source": [
        "laplacian_mechanism(db , sum_query , 1)"
      ],
      "execution_count": 36,
      "outputs": [
        {
          "output_type": "execute_result",
          "data": {
            "text/plain": [
              "tensor([-1313.1542], dtype=torch.float64)"
            ]
          },
          "metadata": {
            "tags": []
          },
          "execution_count": 36
        }
      ]
    },
    {
      "cell_type": "code",
      "metadata": {
        "id": "MnpCEM9cFMYH",
        "colab_type": "code",
        "outputId": "69ba76f2-4cf2-4109-ba79-36ee5db2b786",
        "colab": {
          "base_uri": "https://localhost:8080/",
          "height": 34
        }
      },
      "source": [
        "laplacian_mechanism(db , mean_query , 1/100)"
      ],
      "execution_count": 37,
      "outputs": [
        {
          "output_type": "execute_result",
          "data": {
            "text/plain": [
              "tensor([-18.6892], dtype=torch.float64)"
            ]
          },
          "metadata": {
            "tags": []
          },
          "execution_count": 37
        }
      ]
    },
    {
      "cell_type": "code",
      "metadata": {
        "id": "SixOvkxdF5hB",
        "colab_type": "code",
        "colab": {}
      },
      "source": [
        "import numpy as np\n",
        "num_teachers = 10\n",
        "num_examples = 10000\n",
        "num_labels = 10"
      ],
      "execution_count": 0,
      "outputs": []
    },
    {
      "cell_type": "code",
      "metadata": {
        "id": "jmnrMIaaYw_w",
        "colab_type": "code",
        "colab": {}
      },
      "source": [
        "preds = (np.random.rand(num_teachers, num_examples) * num_labels).astype(int).transpose(1,0)"
      ],
      "execution_count": 0,
      "outputs": []
    },
    {
      "cell_type": "code",
      "metadata": {
        "id": "hQ0m7t3yZLRm",
        "colab_type": "code",
        "colab": {}
      },
      "source": [
        "new_labels = list()\n",
        "for an_image in preds:\n",
        "\n",
        "    label_counts = np.bincount(an_image, minlength=num_labels)\n",
        "\n",
        "    epsilon = 0.1\n",
        "    beta = 1 / epsilon\n",
        "\n",
        "    for i in range(len(label_counts)):\n",
        "        label_counts[i] += np.random.laplace(0, beta, 1)\n",
        "\n",
        "    new_label = np.argmax(label_counts)\n",
        "    \n",
        "    new_labels.append(new_label)"
      ],
      "execution_count": 0,
      "outputs": []
    }
  ]
}